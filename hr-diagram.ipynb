{
 "cells": [
  {
   "cell_type": "markdown",
   "metadata": {},
   "source": [
    "# Hertzsprung&ndash;Russell diagram\n",
    "\n",
    "*from the AQA A-level physics specification (September 2015 onwards)*\n",
    "> General shape: main sequence, dwarfs and giants.\n",
    "> \n",
    "> Axis scales range from –10 to +15 (absolute magnitude) and 50 000 K to 2 500 K (temperature) or OBAFGKM (spectral class).\n",
    "> \n",
    "> Students should be familiar with the position of the Sun on the HR diagram.\n",
    "> \n",
    "> Stellar evolution: path of a star similar to our Sun on the HR diagram from formation to white dwarf.\n",
    "\n",
    "The Hertzsprung–Russell diagram, is a scatter plot of stars showing the relationship between absolute magnitude (or luminosity) and stellar classification (or effective temperature). It plots each star on a graph measuring the star's brightness against its temperature (colour)."
   ]
  }
 ],
 "metadata": {
  "kernelspec": {
   "display_name": "Python 3",
   "language": "python",
   "name": "python3"
  },
  "language_info": {
   "codemirror_mode": {
    "name": "ipython",
    "version": 3
   },
   "file_extension": ".py",
   "mimetype": "text/x-python",
   "name": "python",
   "nbconvert_exporter": "python",
   "pygments_lexer": "ipython3",
   "version": "3.6.1"
  }
 },
 "nbformat": 4,
 "nbformat_minor": 2
}
