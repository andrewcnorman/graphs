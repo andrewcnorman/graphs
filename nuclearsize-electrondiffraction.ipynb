{
 "cells": [
  {
   "cell_type": "markdown",
   "metadata": {},
   "source": [
    "# Nuclear electron diffraction\n",
    "\n",
    "*from the AQA A-level physics specification (September 2015 onwards)*\n",
    "> Students should be familiar with the graph of intensity against angle \n",
    "> for electron diffraction by a nucleus\n",
    "\n",
    "Elastic scattering of electrons from nuclei gives a measure of the size of the nuclear charge distribution.  The electrons are scattered by the electric force field of the nucleus, and re-emerge with no loss of kinetic energy.  This is described by particle physics as a coherent interaction of virtual photons (mediating the electromagnetic force) with the nucleus as a whole, and thus it provides a probe of the global properties of the nucleus, such as its charge radius.\n",
    "\n",
    "Here is the usual setup (a hand drawn diagram with a slighly dodgy graph curve shape, but showing the main features, from [revise.im](https://revise.im/physics/unit-5/radioactivity)):\n",
    "![Cyberphysics graph](electrondiffraction/electronbeam.png)\n",
    "\n",
    "Electrons are an ideal probe because \n",
    "- they interact via the electromagnetic force\n",
    "- they are not absorbed by the nucleus\n",
    "- the electromagnetic force is weak (compared to the nuclear force between nucleons), so the electron easily penetrates into the nucleus\n",
    "- electron beams of very high intensity can be made and used (meaning decent measurements can be made even for angles where there is a low probability of scattering)\n",
    "\n",
    "The graph we are aiming for here should look something like this one, another dodgy curve from [Cyberphysics](http://www.cyberphysics.co.uk/Q&A/KS5/Nuclear/radius/nuclearRadiusQ6.html).\n",
    "\n",
    "![Cyberphysics graph](electrondiffraction/6graphans.png)\n",
    "\n",
    "Things to note (as labelled on the graph):\n",
    "- there are oscillations, due to the diffraction of the electron wave, and these are directly related to the size of the charge distribution of the target nucleus\n",
    "- the oscillations are less pronounced than those seen in the diffraction of light by a black disc, since the nucleus doesn't have a sharp edge or appear black to the electron wave\n",
    "- the first minimum is *not* at zero\n",
    "\n",
    "## Understanding the form of the graph\n",
    "\n",
    "When waves pass through a collection of spheres, which 'look' like circles to the oncoming waves, they diffract around them in the same way as through holes of the same size (this is an example of [Babinet's principle](https://en.wikipedia.org/wiki/Babinet%27s_principle)). This means that they produce a diffraction pattern with the first minimum at $$\\sin\\theta = 1.22 \\frac{\\lambda}{D},$$ where $D$ is the diameter of the sphere\n",
    "(this may be familiar from the [Rayleigh resolution criterion](https://en.wikipedia.org/wiki/Angular_resolution#Explanation) which states that two point sources of equal intensity can just be resolved with diffraction limited optics if separated by in angle by $1.22\\lambda/D$).\n",
    "\n",
    "It is definitely important to understand and be able to explain at least qualitatively the relationship between angle minima and radius; think about the diffraction of light by aperture.\n",
    "\n",
    "Here are some typical data taken from [Bellicard et al. Phys. Rev. Letts 19 (1967) 527](https://doi.org/10.1103/PhysRevLett.19.527), showing cross sections for elastic scattering of $757~\\mathrm{MeV}$ electrons from $^{40}\\mathrm{Ca}$ and $^{48}\\mathrm{Ca}$. Notice that data were taken over several orders of magnitude. The cross section shows diffraction-like patterns with minima as suggested by analogy with light diffracting from an aperture. Notice that the minima for $^{48}\\mathrm{Ca}$ are slightly lower in angle than for $^{40}\\mathrm{Ca}$, due to its lightly larger radius.\n",
    "\n",
    "![Typical data for two isotopes of calcium](electrondiffraction/calciumscattering-bellicard.gif)\n",
    "\n",
    "The graph is not quite as simple as straightforward diffraction of light from a circular aperture, though: there is also an overall decrease of the scattered electron intensity with angle owing to Rutherford scattering (due to electrostatic interaction: the fact that the force is attractive rather than repulsive is not important).  The graph below (from [Teaching advanced physics](http://tap.iop.org/atoms/quarks/538/page_47382.html)) compares a typical electron diffraction pattern with the Rutherford scattering pattern and the single slit pattern. \n",
    "\n",
    "![Rutherford diffraction overlay graph](electrondiffraction/tapimg.gif)\n"
   ]
  },
  {
   "cell_type": "markdown",
   "metadata": {
    "collapsed": true
   },
   "source": [
    "## Getting some data\n",
    "\n",
    "This proved to be rather tricky, as most of the original papers on electron diffraction by nuclei are behind paywalls of big journal publishers like AnnualReviews, APS, ScienceDirect, Elsevier, SpringerLink.  I had to visit Cambridge University Library, who have access (got to Cambridge: they've got a great [Physics Department](https://www.phy.cam.ac.uk/) and you get access to a [legal deposit library](https://en.wikipedia.org/wiki/Legal_deposit#United_Kingdom) for life).  I now have a good number of downloaded PDFs of the original research, with banners like \"Access provided by Cambridge University. For personal use only.\"\n",
    "\n",
    "To reproduce a graph similar to the AQA specimen \"electron diffraction by a nucleus\" graph (so not as many oscillations as Ca, just one $\\theta_\\mathrm{min}$ before a subsiduary maximum), I chose the data from Carbon for $374.5~\\mathrm{MeV}$ electrons which are tabulated in [I. Sick and J.S. McCarthy *Nuclear Physics* A150 (1970) pp.631-654](https://doi.org/10.1016/0375-9474%2870%2990423-9).\n",
    "\n",
    "Using gnuplot:\n",
    "```\n",
    "set logscale y\n",
    "set xlabel 'angle theta / degrees'\n",
    "set ylabel 'cross section / (mb / sr)'  \n",
    "plot 'carbon375.dat' u 1:2:3 w yerrorbars ps 0\n",
    "```\n",
    "\n",
    "![first plot of Carbon 375.5 MeV data](electrondiffraction/carbon375.png)"
   ]
  },
  {
   "cell_type": "markdown",
   "metadata": {},
   "source": [
    "## Making a fit\n",
    "\n",
    "### Rutherford scattering\n",
    "\n",
    "First let's look at what the cross section would look like if the electrons were purely undergoing Rutherford scattering.\n",
    "\n",
    "The Rutherford scattering formula for scattering in a potential $U(r)=-\\frac{\\alpha}{r}$ is\n",
    "$$\\frac{\\mathrm{d}\\sigma}{\\mathrm{d}\\Omega}=\\left(\\frac{\\alpha}{4E}\\right)^2\\mathrm{cosec}^4\\frac{\\theta}{2}.$$\n",
    "In this case, $\\alpha=\\frac{6e^2}{4\\pi\\varepsilon_{0}}$ and $E=374.5~\\mathrm{MeV}$, so the function to plot becomes\n",
    "\\begin{align*}\n",
    "\\frac{\\mathrm{d}\\sigma}{\\mathrm{d}\\Omega}&=\\left(\\frac{\\frac{6e^2}{4\\pi\\varepsilon_{0}}}{4E}\\right)^2\\mathrm{cosec}^4\\frac{\\theta}{2}\\\\\n",
    "&=\\left(\\frac{\\frac{1}{4\\pi\\varepsilon_{0}}\\times 6e^2}{4E}\\right)^2\\mathrm{cosec}^4\\frac{\\theta}{2}\\\\\n",
    "&=\\left.\\left(\\frac{9\\times 10^{9}~\\mathrm{N.m^2.C^{-2}}\\times 6 \\times (1.6\\times 10^{-19}~\\mathrm{C})^2}{4\\times 374.5\\times 10^6~\\mathrm{eV}\\times 1.6\\times 10^{-19}~\\mathrm{J/eV}}\\right)^2 \\middle/ \\left(\\sin\\frac{\\theta}{2}\\right)^4 \\right.\\\\\n",
    "&=\\left.\\left(\\frac{9\\times 10^{9} \\times 6 \\times 1.6\\times 10^{-19}}{4\\times 374.5\\times 10^6 }\\right)^2 \\middle/ \\left(\\sin\\frac{\\theta}{2}\\right)^4 \\right. ~ \\mathrm{m^2}\n",
    "\\end{align*}\n",
    "\n",
    "The units on the plot for carbon are mb (millibarns).  The barn (symbol b) is the standard unit for measuring a nuclear cross section (denoted as $\\sigma$).  It is equal to $10^{-28}~\\mathrm{m^2}, approximately the cross-sectional area of a uranium nucleus (the unit came about as physicists working on the [Manhattan project](https://en.wikipedia.org/wiki/Manhattan_Project) needed a secretive unit for cross section, and they chose the approximate area of uranium, considered a large target nucleus, rather like a barn door in the phrase \"couldn't hit the broad side of a barn\" for someone who is a poor shot).  To convert, we use $$1 mb = 10^{-31}~\\mathrm{m^2}$$\n",
    "\n",
    "We can thus add a \"Rutherford\" line to our plot with\n",
    "\n",
    "```\n",
    "f(x) = ( 9e9 * 6 * 1.6e-19 / (4 * 374.5e6) ) **2 / (1e-31 * ( sin (x * 2 * pi / 720 ) )**4 )\n",
    "replot f(x)\n",
    "```\n",
    "\n",
    "![Rutherford line + data](electrondiffraction/rutherford.png)\n"
   ]
  },
  {
   "cell_type": "markdown",
   "metadata": {
    "collapsed": true
   },
   "source": [
    "### Electron diffraction\n",
    "\n",
    "Next we'll have a look at the form the graph would take if the electrons behaved like light diffracting from an aperture.\n",
    "\n",
    "The intensity of light at a diffraction angle $\\theta$ from a circular aperture is given by Hecht *Optics* as\n",
    "$$ I(\\theta) = I(0) \\left[ \\frac{ 2J_{1}(ka\\sin\\theta) }{ ka\\sin\\theta } \\right]^2, $$\n",
    "where $k$ is the *wave number* (equal to $2\\pi/\\lambda$) and $a$ is the radius of the aperture.  $J_{1}$ is a *Bessel function* of order 1:\n",
    "$$J_{1}(u)=\\frac{i^{-1}}{2\\pi}\\int^{2\\pi}_0 e^{i(v+u\\cos v)} \\mathrm{d}v. $$\n",
    "\n",
    "Before plotting the graph, we need to find $k$ and $a$ for the experiment.  Since the energy of the electrons ($374.5~\\mathrm{MeV}$) is large compared to the rest energy of an electron ($0.511~\\mathrm{MeV}$), we can ignore the ${m_0}^2c^4$ term in $E^2={m_0}^2c^4+p^2c^2$ and thus use the \"ultrarelativistic limit\" $E=pc$.  The de Broglie relation for wavelength $\\lambda=h/p$ then becomes $\\lambda = hc/E$, meaning $k$ is given by\n",
    "$$k=\\frac{E}{\\hbar c}.$$\n",
    "NB $\\hbar$ (pronounced \"h-bar\") is called the \"reduced Planck constant\". It is equal to the Planck constant divided by $2\\pi$ - it's often useful to absorb a factor of $2\\pi$ into the Planck constant.\n",
    "\n",
    "$a$, the radius of the nuclei, can be estimated from the equation for the first minimum in the diffraction pattern for a circular aperture at $$\\sin\\theta = 1.22 \\frac{\\lambda}{D},$$ where $D$ is the diameter of the sphere.  $a$ is thus given by\n",
    "$$a = 0.61 \\frac{\\lambda}{\\sin\\theta_{\\mathrm{min}}}.$$\n",
    "Putting in some values,\n",
    "\\begin{align*}\n",
    "a &= 0.61 \\frac{hc/E}{\\sin(58.0^\\circ)}\\\\\n",
    "&= 0.61 \\frac{6.63\\times10^{-34}\\mathrm{J.s}\\times 3\\times10^8~\\mathrm{m.s^{-1}}/374.5\\times 10^6~\\mathrm{eV}\\times 1.6\\times 10^{-19}~\\mathrm{J/eV}}{\\sin(58.0^\\circ)}\\\\\n",
    "&= 2.39\\times10^{-15}~\\mathrm{m}.\n",
    "\\end{align*}\n",
    "\n",
    "Luckily, gnuplot has a built-in function for ```besj1(x)``` (radians) for the ```j_1``` bessel function of ```x```.  So we can add a \"diffraction line to our plot with\"\n",
    "```\n",
    "g(x) = (2 * besj1 (1.9 * 2.39 * sin(2*pi*x/360) ) / ( 1.9 * 2.39 * sin(2*pi*x/360) ) )**2\n",
    "replot g(x)\n",
    "```\n",
    "\n",
    "![diffraction line + Rutherford line + data](electrondiffraction/rutherford-diffraction.png)\n",
    "\n",
    "The combined effect of these (```replot f(x) * g(x)```) is a fairly good fit for the data, certainly for smaller angles, and into the first minimum area:\n",
    "\n",
    "![Best fit so far](electrondiffraction/ruthdiffcombofit.png)\n",
    "\n",
    "However, there are still problems, notably:\n",
    "- The cross section at the first minimum gets dragged down to zero by the first zero of the Bessel function\n",
    "- The position of the first subsiduary maximum is not correctly predicted\n",
    "- The fit for angles above the first minimum is not particularly good\n",
    "\n",
    "Although the \"Rutherford\" and \"diffraction\" lines have a physical motivation, how to combine these pictures is unclear (and simple multiplication doesn't seem appropriate as it has the problems noted above).\n"
   ]
  },
  {
   "cell_type": "markdown",
   "metadata": {},
   "source": [
    "## References\n",
    "\n",
    "1. Lilley Nuclear Physics: Principles and applications\n",
    "1. Eisberg Fundamentals of Modern Physics\n",
    "1. Herman and Hofstadter High-Energy Electron Scattering Tables\n",
    "1. Hecht Optics\n",
    "\n"
   ]
  },
  {
   "cell_type": "code",
   "execution_count": null,
   "metadata": {
    "collapsed": true
   },
   "outputs": [],
   "source": []
  }
 ],
 "metadata": {
  "kernelspec": {
   "display_name": "Python 3",
   "language": "python",
   "name": "python3"
  },
  "language_info": {
   "codemirror_mode": {
    "name": "ipython",
    "version": 3
   },
   "file_extension": ".py",
   "mimetype": "text/x-python",
   "name": "python",
   "nbconvert_exporter": "python",
   "pygments_lexer": "ipython3",
   "version": "3.6.1"
  }
 },
 "nbformat": 4,
 "nbformat_minor": 2
}
