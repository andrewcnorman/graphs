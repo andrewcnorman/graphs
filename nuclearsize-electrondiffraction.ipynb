{
 "cells": [
  {
   "cell_type": "markdown",
   "metadata": {},
   "source": [
    "# Nuclear electron diffraction\n",
    "\n",
    "*from the AQA A-level physics specification (September 2015 onwards)*\n",
    "> Students should be familiar with the graph of intensity against angle \n",
    "> for electron diffraction by a nucleus\n",
    "\n",
    "Elastic scattering of electrons from nuclei gives a measure of the size of the nuclear charge distribution.  The electrons are scattered by the electric force field of the nucleus, and re-emerge with no loss of kinetic energy.  This is described by particle physics as a coherent interaction of virtual photons (mediating the electromagnetic force) with the nucleus as a whole, and thus it provides a probe of the global properties of the nucleus, such as its charge radius.\n",
    "\n",
    "Electrons are an ideal probe because \n",
    "- they interact via the electromagnetic force\n",
    "- they are not absorbed by the nucleus\n",
    "- the electromagnetic force is weak (compared to the nuclear force between nucleons), so the electron easily penetrates into the nucleus\n",
    "- electron beams of very high intensity can be made and used (meaning decent measurements can be made even for angles where there is a low probability of scattering)\n"
   ]
  },
  {
   "cell_type": "code",
   "execution_count": null,
   "metadata": {
    "collapsed": true
   },
   "outputs": [],
   "source": []
  }
 ],
 "metadata": {
  "kernelspec": {
   "display_name": "Python 3",
   "language": "python",
   "name": "python3"
  },
  "language_info": {
   "codemirror_mode": {
    "name": "ipython",
    "version": 3
   },
   "file_extension": ".py",
   "mimetype": "text/x-python",
   "name": "python",
   "nbconvert_exporter": "python",
   "pygments_lexer": "ipython3",
   "version": "3.6.1"
  }
 },
 "nbformat": 4,
 "nbformat_minor": 2
}
