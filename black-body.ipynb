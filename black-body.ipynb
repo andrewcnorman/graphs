{
 "cells": [
  {
   "cell_type": "markdown",
   "metadata": {},
   "source": [
    "# Black-body curves\n",
    "\n",
    "*from the AQA A-level physics specification (September 2015 onwards)*\n",
    "> Stefan's law and Wien's displacement law\n",
    ">\n",
    "> General shape of black-body curves, use of Wien's displacement law to estimate \n",
    "> black-body temperature of sources.\n",
    "\n"
   ]
  }
 ],
 "metadata": {
  "kernelspec": {
   "display_name": "Python 3",
   "language": "python",
   "name": "python3"
  },
  "language_info": {
   "codemirror_mode": {
    "name": "ipython",
    "version": 3
   },
   "file_extension": ".py",
   "mimetype": "text/x-python",
   "name": "python",
   "nbconvert_exporter": "python",
   "pygments_lexer": "ipython3",
   "version": "3.6.1"
  }
 },
 "nbformat": 4,
 "nbformat_minor": 2
}
