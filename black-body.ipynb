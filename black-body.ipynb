{
 "cells": [
  {
   "cell_type": "markdown",
   "metadata": {},
   "source": [
    "# Black-body curves\n",
    "\n",
    "*from the AQA A-level physics specification (September 2015 onwards)*\n",
    "> Stefan's law and Wien's displacement law\n",
    ">\n",
    "> General shape of black-body curves, use of Wien's displacement law to estimate \n",
    "> black-body temperature of sources.\n",
    "\n"
   ]
  },
  {
   "cell_type": "markdown",
   "metadata": {},
   "source": [
    "## The Stefan&ndash;Boltzmann law\n",
    "\n",
    "The flux $F$ (power per unit area of a black body is given by\n",
    "$$F\\left(\\equiv \\frac{P}{A}\\right)=\\sigma T^4,$$\n",
    "where $\\sigma$ is the Stefan&ndash;Boltzmann constant (its value is $\\sigma = 5.67\\times 10^{-8}\\mathrm{~W~m^{-2}~K^{-4}}$).\n",
    "\n",
    "## Wien's displacement law\n",
    "\n",
    "The Stefan&ndash;Boltzmann Law shows how the *total* power emitted depends on temperature.  The Wien displacement law gives the way in which the wavelength of maximum intensity&mdash;the peak of the curve&mdash;shifts with temperature.\n",
    "\n",
    "It is found that the peak wavelength, $\\lambda_\\mathrm{peak}$, is inversely proportional to temperature\n",
    "$$\\lambda_\\mathrm{peak}T=2.90\\mathrm{~mm~K}.$$\n",
    "\n",
    "## The shape of the black-body curve\n",
    "\n",
    "The shape of black-body curves is given by the Planck radiation law, which gives the energy density as a fuction of wavelength (the Stefan&ndash;Boltzmann law and Wien's displacement law follow immediately from it: by integrating over all $\\lambda$ and finding the peak value of $\\lambda$ respectively).\n",
    "\n",
    "Max Planck in 1901 published an equation which fitted the experimental results for black-body radiation, but he could only derive it by quantizing the vibrations allowed in the oscillators within such bodies.  This, together with Einstein's paper quantizing light in 1905, established *quantum theory*, a cornerstone of modern physics.\n",
    "\n",
    "The Planck radiation law gives the spectral emissive power of a black body as\n",
    "$$e_{\\lambda b}=\\frac{2\\pi h c^2 \\lambda^{-5}}{\\exp(hc/\\lambda k T)-1}.$$"
   ]
  },
  {
   "cell_type": "markdown",
   "metadata": {},
   "source": [
    "## References\n",
    "\n",
    "- C.J. Adkins *An Introduction to Thermal Physics*, Cambridge University Press, 1987"
   ]
  }
 ],
 "metadata": {
  "kernelspec": {
   "display_name": "Python 3",
   "language": "python",
   "name": "python3"
  },
  "language_info": {
   "codemirror_mode": {
    "name": "ipython",
    "version": 3
   },
   "file_extension": ".py",
   "mimetype": "text/x-python",
   "name": "python",
   "nbconvert_exporter": "python",
   "pygments_lexer": "ipython3",
   "version": "3.6.1"
  }
 },
 "nbformat": 4,
 "nbformat_minor": 2
}
